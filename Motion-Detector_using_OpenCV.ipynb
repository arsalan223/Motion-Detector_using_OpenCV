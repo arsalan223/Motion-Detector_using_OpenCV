{
 "cells": [
  {
   "cell_type": "code",
   "execution_count": 17,
   "metadata": {},
   "outputs": [],
   "source": [
    "import cv2, datetime, pandas"
   ]
  },
  {
   "cell_type": "code",
   "execution_count": 36,
   "metadata": {
    "scrolled": false
   },
   "outputs": [
    {
     "name": "stdout",
     "output_type": "stream",
     "text": [
      "[1, 1]\n",
      "[datetime.datetime(2020, 3, 14, 22, 21, 14, 488609), datetime.datetime(2020, 3, 14, 22, 21, 17, 922205), datetime.datetime(2020, 3, 14, 22, 21, 18, 262155), datetime.datetime(2020, 3, 14, 22, 21, 19, 12968), datetime.datetime(2020, 3, 14, 22, 21, 20, 657284), datetime.datetime(2020, 3, 14, 22, 21, 27, 989519), datetime.datetime(2020, 3, 14, 22, 21, 28, 116887), datetime.datetime(2020, 3, 14, 22, 21, 29, 587762), datetime.datetime(2020, 3, 14, 22, 21, 29, 671999), datetime.datetime(2020, 3, 14, 22, 21, 30, 122620), datetime.datetime(2020, 3, 14, 22, 21, 30, 457776), datetime.datetime(2020, 3, 14, 22, 21, 30, 790540), datetime.datetime(2020, 3, 14, 22, 21, 30, 917927), datetime.datetime(2020, 3, 14, 22, 21, 51, 650778), datetime.datetime(2020, 3, 14, 22, 21, 51, 782715)]\n",
      "                       Start                        End\n",
      "0 2020-03-14 22:21:14.488609 2020-03-14 22:21:17.922205\n",
      "1 2020-03-14 22:21:18.262155 2020-03-14 22:21:19.012968\n",
      "2 2020-03-14 22:21:20.657284 2020-03-14 22:21:27.989519\n",
      "3 2020-03-14 22:21:28.116887 2020-03-14 22:21:29.587762\n",
      "4 2020-03-14 22:21:29.671999 2020-03-14 22:21:30.122620\n",
      "5 2020-03-14 22:21:30.457776 2020-03-14 22:21:30.790540\n",
      "6 2020-03-14 22:21:30.917927 2020-03-14 22:21:51.650778\n"
     ]
    }
   ],
   "source": [
    "first_frame = None #'first_frame' variable will store 1st frame from 'video', will be used to compare subsequent frames.\n",
    "\n",
    "status_list = [None] #will used detect object appearance and setting (Start & End) timings (initializing with None element, as we need atleast 2 elements to execute further)\n",
    "\n",
    "times = [] #a list of Start & End timings of object appearance, used to populate pandas dataframe\n",
    "\n",
    "data_frame = pandas.DataFrame(columns=['Start', 'End']) #pandas dataframe will be used to store Start & End time of object/s appeared in video\n",
    "\n",
    "video = cv2.VideoCapture(0) #captures video from built-in camera. (pass arg. '1' for webcam & so on)\n",
    "\n",
    "#while loop will execute frame by frame\n",
    "while True:    \n",
    "    check, frame = video.read() #video.read() will return 2 values (a bool if gets frame {check} & a 3d array of image {frame})\n",
    "    \n",
    "    status = 0 #used to identify object's appearance/presence\n",
    "    \n",
    "    gray_img = cv2.cvtColor(frame, cv2.COLOR_BGR2GRAY) #converting frames to grayscale\n",
    "    \n",
    "    blured_img = cv2.GaussianBlur(gray_img, (21,21), 0 ) #converting grayscale image to blured\n",
    "    \n",
    "    #saving the 1st frame for comparision\n",
    "    if first_frame is None:\n",
    "        first_frame = blured_img\n",
    "        \n",
    "    delta_frame = cv2.absdiff(first_frame, blured_img) #comparing & finding difference b/w 1st frame & current frame\n",
    "    \n",
    "    #provide a threshold value, if pixel difference > 30 then convert it to white {255}, else black\n",
    "    thresh_delta = cv2.threshold(delta_frame, 30, 255, cv2.THRESH_BINARY)[1]\n",
    "    thresh_delta = cv2.dilate(thresh_delta, None, iterations=0 )\n",
    "    \n",
    "    #finding contours/outlines/borders of detected object\n",
    "    (contours,_) = cv2.findContours(thresh_delta.copy(), cv2.RETR_EXTERNAL, cv2.CHAIN_APPROX_SIMPLE)\n",
    "    \n",
    "    #eliminating small objects (fly, noise) from making rectangle on them\n",
    "    for contour in contours:\n",
    "        if cv2.contourArea(contour) < 1000:\n",
    "            continue #will break the 'for loop'\n",
    "        \n",
    "        status = 1 #sets status to 1 (means object is detected)\n",
    "        \n",
    "        #getting x, y cooedinates, width & height of contours (outlines) for making rectangle on them\n",
    "        (x, y, w, h) = cv2.boundingRect(contour)\n",
    "        \n",
    "        #making rectangles (x, y coordinates starts from top-left (0,0)), giving green color {0,255,0} & 3 channels (RGB)\n",
    "        cv2.rectangle(frame, (x, y), (x+w, y+h), (0,255,0), 3)\n",
    "        \n",
    "    status_list.append(status) #appending status_list (e.g:[None, 0]), appends 1 if object detected, else 0\n",
    "    \n",
    "    #comment this line to see whole video status_list\n",
    "    status_list = status_list[-2:] #shorten the list to 2 last elements (we need only 2nd last & last element to detect object appearance)\n",
    "     \n",
    "    #it appends 'times' list with current time, if 2nd last frame detected NO object and last frame detects object, will be used as detection Start Time\n",
    "    if status_list[-2] == 0 and status_list[-1] == 1:\n",
    "        times.append(datetime.datetime.now())\n",
    "        \n",
    "    #it appends 'times' list with current time, if 2nd last frame detectes object and last frame detects NO object, will be used as detection End Time\n",
    "    if status_list[-2] == 1 and status_list[-1] == 0:\n",
    "        times.append(datetime.datetime.now())\n",
    "        \n",
    "    #displaying 'frame' = original video + rectangles), 'Capturing' = grayscale video, 'delta' = differences & 'thresh' = displaying differences in Black and White\n",
    "    cv2.imshow('frame', frame)\n",
    "    cv2.imshow('Capturing', gray_img)\n",
    "    cv2.imshow('delta', delta_frame)\n",
    "    cv2.imshow('thresh', thresh_delta)\n",
    "    \n",
    "    #frame will change after 1 millisecond\n",
    "    key = cv2.waitKey(1)\n",
    "    \n",
    "    #will break the while loop on pressing 'q'\n",
    "    if key == ord('q'):\n",
    "        break\n",
    "        \n",
    "print(status_list)\n",
    "print(times)\n",
    "\n",
    "#store Start & End timings from 'times' list to Pandas dataframe\n",
    "for i in range(0, len(times)-1, 2): #if same length of 'times' pass then error will occur, if having moving object in last frame of video, so -1 \n",
    "    #must use same names (i.e: data_frame = data_frame.append()), like: a = a + 1 (otherwise only last values will append)\n",
    "    data_frame = data_frame.append({'Start': times[i], 'End': times[i+1]}, ignore_index = True)\n",
    "\n",
    "print(data_frame)\n",
    "#saving dataframe to a .csv file\n",
    "data_frame.to_csv('times.csv')\n",
    "\n",
    "video.release()\n",
    "\n",
    "#will close all windows (executes after while loop)\n",
    "cv2.destroyAllWindows()"
   ]
  },
  {
   "cell_type": "code",
   "execution_count": null,
   "metadata": {},
   "outputs": [],
   "source": []
  }
 ],
 "metadata": {
  "kernelspec": {
   "display_name": "Python 3",
   "language": "python",
   "name": "python3"
  },
  "language_info": {
   "codemirror_mode": {
    "name": "ipython",
    "version": 3
   },
   "file_extension": ".py",
   "mimetype": "text/x-python",
   "name": "python",
   "nbconvert_exporter": "python",
   "pygments_lexer": "ipython3",
   "version": "3.8.1"
  }
 },
 "nbformat": 4,
 "nbformat_minor": 4
}
