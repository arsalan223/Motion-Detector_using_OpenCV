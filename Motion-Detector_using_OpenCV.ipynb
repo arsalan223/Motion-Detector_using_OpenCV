{
 "cells": [
  {
   "cell_type": "code",
   "execution_count": 4,
   "metadata": {},
   "outputs": [],
   "source": [
    "import cv2"
   ]
  },
  {
   "cell_type": "code",
   "execution_count": 12,
   "metadata": {
    "scrolled": true
   },
   "outputs": [],
   "source": [
    "#'first_frame' variable will store 1st frame from 'video', will be used to compare subsequent frames.\n",
    "first_frame = None\n",
    "\n",
    "#captures video from built-in camera. (pass arg. '1' for webcam & so on)\n",
    "video = cv2.VideoCapture(0)\n",
    "\n",
    "#while loop will execute frame by frame\n",
    "while True:\n",
    "    #video.read() will return 2 values (a bool if gets frame {check} & a 3d array of image {frame})\n",
    "    check, frame = video.read()\n",
    "    \n",
    "    #converting frames to grayscale\n",
    "    gray_img = cv2.cvtColor(frame, cv2.COLOR_BGR2GRAY)\n",
    "    \n",
    "    #converting grayscale image to blured\n",
    "    blured_img = cv2.GaussianBlur(gray_img, (21,21), 0 )\n",
    "    \n",
    "    #saving the 1st frame for comparision\n",
    "    if first_frame is None:\n",
    "        first_frame = blured_img\n",
    "        \n",
    "    #comparing & finding difference b/w 1st frame & current frame\n",
    "    delta_frame = cv2.absdiff(first_frame, blured_img)\n",
    "    \n",
    "    #provide a threshold value, if pixel difference > 30 then convert it to white {255}, else black\n",
    "    thresh_delta = cv2.threshold(delta_frame, 30, 255, cv2.THRESH_BINARY)[1]\n",
    "    thresh_delta = cv2.dilate(thresh_delta, None, iterations=0 )\n",
    "    \n",
    "    #finding contours/outlines/borders of detected object\n",
    "    (contours,_) = cv2.findContours(thresh_delta.copy(), cv2.RETR_EXTERNAL, cv2.CHAIN_APPROX_SIMPLE)\n",
    "    \n",
    "    #eliminating small objects (fly, noise) from making rectangle on them\n",
    "    for contour in contours:\n",
    "        if cv2.contourArea(contour) < 1000:\n",
    "            continue\n",
    "        \n",
    "        #getting x, y cooedinates, width & height of contours (outlines) for making rectangle on them\n",
    "        (x, y, w, h) = cv2.boundingRect(contour)\n",
    "        \n",
    "        #making rectangles (x, y coordinates starts from top-left (0,0)), giving green color {0,255,0} & 3 channels (RGB)\n",
    "        cv2.rectangle(frame, (x, y), (x+w, y+h), (0,255,0), 3)\n",
    "     \n",
    "    #displaying 'frame' = original video + rectangles), 'Capturing' = grayscale video, 'delta' = differences & 'thresh' = displaying differences in Black and White\n",
    "    cv2.imshow('frame', frame)\n",
    "    cv2.imshow('Capturing', gray_img)\n",
    "    cv2.imshow('delta', delta_frame)\n",
    "    cv2.imshow('thresh', thresh_delta)\n",
    "    \n",
    "    #frame will change after 1 millisecond\n",
    "    key = cv2.waitKey(1)\n",
    "    \n",
    "    #will break the while loop on pressing 'q'\n",
    "    if key == ord('q'):\n",
    "        break\n",
    "\n",
    "video.release()\n",
    "\n",
    "#will close all windows (executes after while loop)\n",
    "cv2.destroyAllWindows()"
   ]
  },
  {
   "cell_type": "code",
   "execution_count": null,
   "metadata": {},
   "outputs": [],
   "source": []
  }
 ],
 "metadata": {
  "kernelspec": {
   "display_name": "Python 3",
   "language": "python",
   "name": "python3"
  },
  "language_info": {
   "codemirror_mode": {
    "name": "ipython",
    "version": 3
   },
   "file_extension": ".py",
   "mimetype": "text/x-python",
   "name": "python",
   "nbconvert_exporter": "python",
   "pygments_lexer": "ipython3",
   "version": "3.8.1"
  }
 },
 "nbformat": 4,
 "nbformat_minor": 4
}
